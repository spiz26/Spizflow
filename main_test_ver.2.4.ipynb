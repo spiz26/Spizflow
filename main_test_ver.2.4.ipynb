{
 "cells": [
  {
   "cell_type": "code",
   "execution_count": 7,
   "id": "09b8109a",
   "metadata": {},
   "outputs": [
    {
     "name": "stdout",
     "output_type": "stream",
     "text": [
      "[0/10 epochs] Train Accuracy : 9.95%, Test Accuracy : 11.5%\n",
      "[1/10 epochs] Train Accuracy : 92.425%, Test Accuracy : 88.2%\n",
      "[2/10 epochs] Train Accuracy : 95.3%, Test Accuracy : 91.5%\n",
      "[3/10 epochs] Train Accuracy : 95.75%, Test Accuracy : 92.2%\n",
      "[4/10 epochs] Train Accuracy : 94.15%, Test Accuracy : 89.4%\n",
      "[5/10 epochs] Train Accuracy : 97.85%, Test Accuracy : 94.6%\n",
      "[6/10 epochs] Train Accuracy : 97.1%, Test Accuracy : 93.4%\n",
      "[7/10 epochs] Train Accuracy : 98.675%, Test Accuracy : 95.3%\n",
      "[8/10 epochs] Train Accuracy : 98.4%, Test Accuracy : 95.1%\n",
      "[9/10 epochs] Train Accuracy : 98.425%, Test Accuracy : 93.0%\n",
      "[10/10 epochs] Train Accuracy : 98.725%, Test Accuracy : 94.4%\n",
      "Training complete! 2.0minutes, 55.77seconds\n"
     ]
    }
   ],
   "source": [
    "import numpy as np\n",
    "import pandas as pd\n",
    "import matplotlib.pyplot as plt\n",
    "import tensorflow as tf\n",
    "from time import time as stamp\n",
    "from Layer import *\n",
    "\n",
    "seed= int(float(str(stamp())[11:]) / 1e+4)\n",
    "np.random.seed(seed)\n",
    "\n",
    "def OneHot(label_data, num_class):\n",
    "    return np.identity(num_class)[label_data]\n",
    "\n",
    "mnist = tf.keras.datasets.mnist\n",
    "np.random.seed(26)\n",
    "\n",
    "(X_train, y_train), (X_test, y_test) = mnist.load_data()\n",
    "X_train = X_train[:4000].reshape(-1,28,28).astype(np.float32)/255.0\n",
    "X_test = X_test[:1000].reshape(-1,28,28).astype(np.float32)/255.0\n",
    "\n",
    "num_class = 10\n",
    "y_train = y_train[:4000]\n",
    "y_test = y_test[:1000]\n",
    "y_train = OneHot(y_train, num_class)\n",
    "y_test = OneHot(y_test, num_class)\n",
    "\n",
    "img_shape = (1, 28, 28)\n",
    "flt_shape = (10,3,3)\n",
    "\n",
    "conv1 = Conv2D(img_shape, flt_shape, 0, 1, activation = 'relu', optimizer='Adam', name = 'conv1')\n",
    "conv2 =  Conv2D(conv1.y_shape(), flt_shape, 0, 1, activation = 'relu', optimizer='Adam', name = 'conv2')\n",
    "pool1 = Pooling(conv2.y_shape(), 2, 0, name = 'pool1')\n",
    "d1 = Dense(pool1.y_shape_fc(), 400, optimizer='Adam', activation = 'relu', name = 'd1')\n",
    "p1 = Dropout(0.5)\n",
    "d2 = Dense(400, 200, optimizer='Adam', activation = 'relu', name = 'd2')\n",
    "p2 = Dropout(0.5)\n",
    "d3 = Dense(200, 10, optimizer='Adam', activation = 'softmax', name = 'd3')\n",
    "\n",
    "model = Model()\n",
    "model.add(conv1)\n",
    "model.add(conv2)\n",
    "model.add(pool1)\n",
    "model.add(FCLayer())\n",
    "model.add(d1)\n",
    "model.add(p1)\n",
    "model.add(d2)\n",
    "model.add(p2)\n",
    "model.add(d3)\n",
    "model.fit(X_train, y_train, X_test, y_test, batch_size=20, epochs=10, alpha=0.01)"
   ]
  },
  {
   "cell_type": "code",
   "execution_count": 6,
   "id": "54f8246d",
   "metadata": {},
   "outputs": [
    {
     "data": {
      "image/png": "[encoded data removed]",
      "text/plain": [
       "<Figure size 432x288 with 5 Axes>"
      ]
     },
     "metadata": {
      "needs_background": "light"
     },
     "output_type": "display_data"
    }
   ],
   "source": [
    "random_num = np.random.randint(0,1000,5)\n",
    "pic = {}\n",
    "fig = plt.figure()\n",
    "\n",
    "for num, i in enumerate(random_num):\n",
    "    pic[np.argmax(y_test[i])] = X_test[i]\n",
    "    predict = model.predict(X_test[i].reshape(1,1,28,28))\n",
    "    ax1 = fig.add_subplot(1,5,num+1)\n",
    "    ax1.imshow(X_test[i],cmap='gray')\n",
    "    ax1.set_title(f'{np.argmax(predict)}')\n",
    "    ax1.axis(\"off\")\n",
    "    \n",
    "plt.show()"
   ]
  }
 ],
 "metadata": {
  "kernelspec": {
   "display_name": "Python 3",
   "language": "python",
   "name": "python3"
  },
  "language_info": {
   "codemirror_mode": {
    "name": "ipython",
    "version": 3
   },
   "file_extension": ".py",
   "mimetype": "text/x-python",
   "name": "python",
   "nbconvert_exporter": "python",
   "pygments_lexer": "ipython3",
   "version": "3.8.8"
  }
 },
 "nbformat": 4,
 "nbformat_minor": 5
}
