{
 "cells": [
  {
   "cell_type": "code",
   "execution_count": 1,
   "id": "0f07818a",
   "metadata": {},
   "outputs": [],
   "source": [
    "import pandas as pd\n",
    "import numpy as np\n",
    "import matplotlib.pyplot as plt\n",
    "from sklearn.model_selection import train_test_split\n",
    "plt.style.use(['seaborn-whitegrid'])\n"
   ]
  },
  {
   "cell_type": "code",
   "execution_count": 2,
   "id": "12c29585",
   "metadata": {},
   "outputs": [
    {
     "data": {
      "image/png": "[encoded data removed]",
      "text/plain": [
       "<Figure size 360x216 with 1 Axes>"
      ]
     },
     "metadata": {},
     "output_type": "display_data"
    }
   ],
   "source": [
    "#시드 고정\n",
    "seed = 43\n",
    "np.random.seed(seed)\n",
    "\n",
    "#데이터 준비\n",
    "x = np.float64(np.random.randint(0,100,100))\n",
    "bias = np.float64(np.random.randint(0,50,100))\n",
    "y = 2 * x + bias\n",
    "x_train, x_test, y_train, y_test = train_test_split(x, y, test_size = 0.3, random_state=97)\n",
    "\n",
    "#그래프\n",
    "fig = plt.figure(figsize=(5,3))\n",
    "plt.scatter(x_train ,y_train)\n",
    "plt.show()"
   ]
  },
  {
   "cell_type": "code",
   "execution_count": 3,
   "id": "5e97cb7d",
   "metadata": {},
   "outputs": [],
   "source": [
    "class Linear:\n",
    "    \"\"\"선형 회귀 클래스\"\"\"\n",
    "    \n",
    "    def __init__(self):\n",
    "        \"\"\"생성자\"\"\"\n",
    "        self.w0 = 1.0\n",
    "        self.b0 = 1.0\n",
    "    \n",
    "    def forward(self, x0):\n",
    "        \"\"\"순전파\"\"\"\n",
    "        h0 = self.w0 * x0 + self.b0\n",
    "        return h0\n",
    "    \n",
    "    def back(self, x0, y0, h0, m, alpha): #loss function : SE\n",
    "        \"\"\"역전파\"\"\"\n",
    "        err = h0 - y0\n",
    "        self.w0 = self.w0 - (alpha * err * x0) / m\n",
    "        self.b0 = self.b0 - (alpha * err) / m\n",
    "        w0 = self.w0\n",
    "        b0 = self.b0\n",
    "        #print(w0, b0)\n",
    "        return w0, b0\n",
    "        \n",
    "    def fit(self, x, y, alpha=0.01, epoch=50):\n",
    "        \"\"\"모델 학습\"\"\"\n",
    "        m = len(x)\n",
    "        for i in range(epoch): #epoch\n",
    "            for x0, y0 in zip(x, y):\n",
    "                h0 = self.forward(x0)\n",
    "                w, b = self.back(x0, y0, h0, m, alpha)\n",
    "        return w, b\n",
    "    \n",
    "    def score(self, x_test, y_test): #cost function : RMSE\n",
    "        \"\"\"모델 평가\"\"\"\n",
    "        score = 0\n",
    "        m = len(x_test)\n",
    "        \n",
    "        for x0, y0 in zip(x_test, y_test):\n",
    "            h = self.w0 * x0 + self.b0\n",
    "            j = np.sqrt((h - y0)**2) / m\n",
    "            score = score + j\n",
    "            \n",
    "        return score"
   ]
  },
  {
   "cell_type": "code",
   "execution_count": 4,
   "id": "27e1eb16",
   "metadata": {},
   "outputs": [
    {
     "data": {
      "image/png": "[encoded data removed]",
      "text/plain": [
       "<Figure size 432x288 with 1 Axes>"
      ]
     },
     "metadata": {},
     "output_type": "display_data"
    },
    {
     "name": "stdout",
     "output_type": "stream",
     "text": [
      "model RMSE : 15.437536435894371\n",
      "weight : 2.51, bias : 3.68\n"
     ]
    }
   ],
   "source": [
    "#학습\n",
    "model = Linear()\n",
    "w, b = model.fit(x,y,alpha = 0.01)\n",
    "\n",
    "#그래프\n",
    "x_graph = np.arange(0,100,0.1)\n",
    "fig = plt.figure()\n",
    "plt.scatter(x_train ,y_train)\n",
    "plt.scatter(x_test, y_test)\n",
    "plt.plot(x_graph, w*x_graph + b, '--r')\n",
    "plt.show()\n",
    "\n",
    "#평가\n",
    "print(f\"model RMSE : {model.score(x_test, y_test)}\")\n",
    "print(\"weight : %.2f, bias : %.2f\" % (model.w0, model.b0))"
   ]
  }
 ],
 "metadata": {
  "kernelspec": {
   "display_name": "Python 3",
   "language": "python",
   "name": "python3"
  },
  "language_info": {
   "codemirror_mode": {
    "name": "ipython",
    "version": 3
   },
   "file_extension": ".py",
   "mimetype": "text/x-python",
   "name": "python",
   "nbconvert_exporter": "python",
   "pygments_lexer": "ipython3",
   "version": "3.8.8"
  }
 },
 "nbformat": 4,
 "nbformat_minor": 5
}
