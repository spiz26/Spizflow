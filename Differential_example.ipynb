{
 "cells": [
  {
   "cell_type": "code",
   "execution_count": 1,
   "id": "0d285508",
   "metadata": {},
   "outputs": [],
   "source": [
    "import numpy as np\n",
    "import matplotlib.pyplot as plt\n",
    "\n",
    "from Layer import *\n",
    "from Utilis import *"
   ]
  },
  {
   "cell_type": "code",
   "execution_count": 2,
   "id": "507a28db",
   "metadata": {},
   "outputs": [],
   "source": [
    "def function1(x: np.array, args=None) -> np.array: #input : 0, output : 0\n",
    "    return x**2\n",
    "\n",
    "def function2(x: np.array, args=None) -> np.array: #input : 1, output : 0\n",
    "    return x[0]**2 + 2*x[1]\n",
    "\n",
    "def function3(x: np.array, args=None) -> np.array: #input : 0, output : 1\n",
    "    return np.array([3*x + 1, x**2])\n",
    "\n",
    "def function4(x: np.array, args=None) -> np.array: #input : 1, output : 1\n",
    "    return np.array([x[0]**2 + 2*x[1] - 3*x[2] + 5*x[3], 2*x[0] - 3*x[1] -x[3]**2, x[0]**3 - 3*(x[1]**2)])\n",
    "\n",
    "def function5(x: np.array, args=None) -> np.array: #input : 1, output : 2\n",
    "    return np.array([[x[0]**2 - 3*x[1], x[0]**3 - 3*(x[1]**2)], [x[0]**2, x[1]**3]])\n",
    "                             \n",
    "def function6(x: np.array, args=None) -> np.array: #input : 2, output : 0\n",
    "    return np.array(x[0,0]**2 + x[0,1] + 2*x[1,0] - 3*x[1,1])\n",
    "\n",
    "def function4_1(x:np.array, args=None):\n",
    "    return np.array([x[0]**2, x[1]**2, x[2]**2], x[3]**2)"
   ]
  },
  {
   "cell_type": "code",
   "execution_count": 3,
   "id": "39cb42bd",
   "metadata": {},
   "outputs": [],
   "source": [
    "class Sigmoid:\n",
    "    \"\"\"Sigmoid activation function\"\"\"\n",
    "    def __init__(self):\n",
    "        self.type = ('activation', 'sigmoid')\n",
    "        \n",
    "    def __call__(self, x, args=None):\n",
    "        self.x = x\n",
    "        self.y = 1 / (1 + np.exp(-x))\n",
    "        return self.y\n",
    "    \n",
    "    def backprop(self, x):\n",
    "        return (1 - self.y) * self.y\n",
    "    \n",
    "class Softmax:\n",
    "    \"\"\"Softmax activation function\"\"\"\n",
    "    def __init__(self):\n",
    "        self.type = ('activation', 'softmax')\n",
    "        self.test = True\n",
    "        \n",
    "    def __call__(self, x, args=None):\n",
    "        self.x = x\n",
    "        if self.x.ndim == 0:\n",
    "            raise Exception(\"The arguments of the softmax function must be at least a vector. Not scalar.\")\n",
    "            \n",
    "        elif self.x.ndim == 1:\n",
    "            x = x - np.max(x)\n",
    "            self.y = np.exp(x) / np.sum(np.exp(x))\n",
    "            return self.y\n",
    "        \n",
    "        elif self.x.ndim == 2:\n",
    "            x = x - np.max(x, axis=1).reshape(-1,1)\n",
    "            self.y = np.exp(x) / np.sum(np.exp(x), axis=1).reshape(-1,1)\n",
    "            return self.y\n",
    "        \n",
    "        else:\n",
    "            raise Exception(\"Can't calculate\")\n",
    "    \n",
    "    def backprop(self, dy):\n",
    "        if self.test:\n",
    "            if self.y.ndim == 1:\n",
    "                soft_dy = np.diag(self.y) - np.outer(self.y, self.y)\n",
    "                return soft_dy\n",
    "            \n",
    "            elif self.y.ndim == 2:\n",
    "                batch_size = self.y.shape[0]\n",
    "                num_class = self.y.shape[1]\n",
    "\n",
    "                soft_dy = np.zeros((batch_size, num_class, num_class)) #jacobian\n",
    "\n",
    "                for i in range(batch_size):\n",
    "                    soft_dy[i] = np.diag(self.y[i]) - np.outer(self.y[i], self.y[i])\n",
    "                return soft_dy\n",
    "            \n",
    "            else:\n",
    "                raise Exception(\"Can't calculate\")"
   ]
  },
  {
   "cell_type": "code",
   "execution_count": 4,
   "id": "42d5bfd8",
   "metadata": {},
   "outputs": [],
   "source": [
    "\"\"\"tensors\"\"\"\n",
    "x0 = np.array([0.1, 0.2, 0.3, 0.4], dtype=np.float64)\n",
    "y0 = np.array([0, 1, 0, 0], dtype=np.float64)\n",
    "\n",
    "x1 = np.array([1, 2, 3], dtype=np.float64) # 3 scalars or 1 vector\n",
    "x2 = np.array([12, 13, 14], dtype=np.float64) # 3 scalars or 1 vector\n",
    "x3 = np.array([x1, x2]) # 2 vectors or 1 matrix"
   ]
  },
  {
   "cell_type": "code",
   "execution_count": 5,
   "id": "8cc44002",
   "metadata": {},
   "outputs": [],
   "source": [
    "sigmoid = Sigmoid()\n",
    "softmax = Softmax()\n",
    "relu = ReLU()"
   ]
  },
  {
   "cell_type": "code",
   "execution_count": 6,
   "id": "9bbc1121",
   "metadata": {},
   "outputs": [
    {
     "name": "stdout",
     "output_type": "stream",
     "text": [
      "9\n",
      "6.000000000012662\n"
     ]
    }
   ],
   "source": [
    "\"\"\"input : scalar, output : scalar\"\"\"\n",
    "diff1 = differential(iterdim=0, batch=False)\n",
    "temp_x = np.array(3)\n",
    "print(function1(temp_x))\n",
    "print(diff1(function1, temp_x))"
   ]
  },
  {
   "cell_type": "code",
   "execution_count": 7,
   "id": "5615b90b",
   "metadata": {},
   "outputs": [
    {
     "name": "stdout",
     "output_type": "stream",
     "text": [
      "0.41000000000000003\n",
      "[0.2 2.  0.  0. ]\n"
     ]
    }
   ],
   "source": [
    "\"\"\"input : vector, output : scalar\"\"\"\n",
    "diff2 = differential(iterdim=0, batch=False)\n",
    "print(function2(x0))\n",
    "print(diff2(function2, x0))"
   ]
  },
  {
   "cell_type": "code",
   "execution_count": 8,
   "id": "041c8965",
   "metadata": {},
   "outputs": [
    {
     "name": "stdout",
     "output_type": "stream",
     "text": [
      "[10  9]\n",
      "[3. 6.]\n"
     ]
    }
   ],
   "source": [
    "\"\"\"input : scalar, output : vector\"\"\"\n",
    "diff3 = differential(iterdim=0, batch=False)\n",
    "print(function3(temp_x))\n",
    "print(diff2(function3, temp_x))"
   ]
  },
  {
   "cell_type": "code",
   "execution_count": 9,
   "id": "27371e82",
   "metadata": {},
   "outputs": [
    {
     "name": "stdout",
     "output_type": "stream",
     "text": [
      "[ 1.51  -0.56  -0.119]\n",
      "[[ 0.2         2.          0.03000001]\n",
      " [ 2.         -3.         -1.2       ]\n",
      " [-3.          0.          0.        ]\n",
      " [ 5.         -0.8         0.        ]]\n"
     ]
    }
   ],
   "source": [
    "\"\"\"input : vector, output : vector\"\"\"\n",
    "diff4 = differential(iterdim=0, batch=False)\n",
    "print(function4(x0))\n",
    "print(diff4(function4, x0))"
   ]
  },
  {
   "cell_type": "code",
   "execution_count": 10,
   "id": "3cfe3e9f",
   "metadata": {},
   "outputs": [
    {
     "name": "stdout",
     "output_type": "stream",
     "text": [
      "[0.19661193 0.10499359 0.04517666]\n",
      "[0.19661193 0.10499359 0.04517666]\n"
     ]
    }
   ],
   "source": [
    "diff_sig = differential(iterdim=1)\n",
    "sigmoid(x1)\n",
    "print(sigmoid.backprop(x1))\n",
    "print(diff_sig(sigmoid, x1))"
   ]
  },
  {
   "cell_type": "code",
   "execution_count": 11,
   "id": "0dbc30ad",
   "metadata": {},
   "outputs": [
    {
     "name": "stdout",
     "output_type": "stream",
     "text": [
      "[0.21383822 0.23632778 0.26118259 0.28865141]\n",
      "\n",
      "[[ 0.16811144 -0.05053591 -0.05585082 -0.0617247 ]\n",
      " [-0.05053591  0.18047696 -0.0617247  -0.06821635]\n",
      " [-0.05585082 -0.0617247   0.19296625 -0.07539072]\n",
      " [-0.0617247  -0.06821635 -0.07539072  0.20533177]]\n",
      "\n",
      "[[ 0.16811497 -0.05053883 -0.05585404 -0.06172209]\n",
      " [-0.05053883  0.18048056 -0.06172827 -0.06821346]\n",
      " [-0.05585404 -0.06172827  0.19296985 -0.07538754]\n",
      " [-0.06172209 -0.06821346 -0.07538754  0.20532309]]\n"
     ]
    }
   ],
   "source": [
    "diff_soft = differential(iterdim=0, batch=False)\n",
    "print(softmax(x0), end=\"\\n\\n\")\n",
    "print(diff_soft(softmax, x0), end=\"\\n\\n\")\n",
    "print(softmax.backprop(x0))"
   ]
  },
  {
   "cell_type": "code",
   "execution_count": 12,
   "id": "c058ea3a",
   "metadata": {},
   "outputs": [
    {
     "name": "stdout",
     "output_type": "stream",
     "text": [
      "[ 0.         -1.24937542  0.          0.        ]\n"
     ]
    }
   ],
   "source": [
    "print(diff_soft(Loss_Cross_Entropy, x0, y0))"
   ]
  },
  {
   "cell_type": "code",
   "execution_count": null,
   "id": "42112fab",
   "metadata": {},
   "outputs": [],
   "source": []
  }
 ],
 "metadata": {
  "kernelspec": {
   "display_name": "Python [conda env:jeongyoon] *",
   "language": "python",
   "name": "conda-env-jeongyoon-py"
  },
  "language_info": {
   "codemirror_mode": {
    "name": "ipython",
    "version": 3
   },
   "file_extension": ".py",
   "mimetype": "text/x-python",
   "name": "python",
   "nbconvert_exporter": "python",
   "pygments_lexer": "ipython3",
   "version": "3.8.13"
  }
 },
 "nbformat": 4,
 "nbformat_minor": 5
}
